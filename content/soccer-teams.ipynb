{
 "cells": [
  {
   "cell_type": "markdown",
   "metadata": {
    "collapsed": true
   },
   "source": [
    "One of the biggest contention among different football clubs, and one which perpetuates into a lot of banter, is playing styles. In this blog post, we will try to quantify and visualize things which football fans keep talking about on the weekends - how much does Mourinho really park the bus, etc.\n",
    "\n",
    "We'll be using a subset of the [European Soccer Dataset](https://www.kaggle.com/hugomathien/soccer) available on [Kaggle](http://kaggle.com/).\n",
    "\n",
    "## Data Preparation\n",
    "\n",
    "Let's start by taking a look at our data. The data for attributes of teams (playing styles) is given in the table Team_Attributes, while metadata about the team is in \"Team\" table."
   ]
  },
  {
   "cell_type": "code",
   "execution_count": 33,
   "metadata": {
    "collapsed": true
   },
   "outputs": [],
   "source": [
    "import pandas as pd\n",
    "import sqlite3\n",
    "\n",
    "con = sqlite3.connect(\"./database.sqlite\")\n",
    "team=pd.read_sql_query('select * from Team',con)\n",
    "team_attr=pd.read_sql_query('select * from Team_Attributes',con)\n",
    "con.close()"
   ]
  },
  {
   "cell_type": "code",
   "execution_count": 34,
   "metadata": {},
   "outputs": [
    {
     "data": {
      "text/html": [
       "<div>\n",
       "<style scoped>\n",
       "    .dataframe tbody tr th:only-of-type {\n",
       "        vertical-align: middle;\n",
       "    }\n",
       "\n",
       "    .dataframe tbody tr th {\n",
       "        vertical-align: top;\n",
       "    }\n",
       "\n",
       "    .dataframe thead th {\n",
       "        text-align: right;\n",
       "    }\n",
       "</style>\n",
       "<table border=\"1\" class=\"dataframe\">\n",
       "  <thead>\n",
       "    <tr style=\"text-align: right;\">\n",
       "      <th></th>\n",
       "      <th>id</th>\n",
       "      <th>team_api_id</th>\n",
       "      <th>team_fifa_api_id</th>\n",
       "      <th>team_long_name</th>\n",
       "      <th>team_short_name</th>\n",
       "    </tr>\n",
       "  </thead>\n",
       "  <tbody>\n",
       "    <tr>\n",
       "      <th>0</th>\n",
       "      <td>1</td>\n",
       "      <td>9987</td>\n",
       "      <td>673.0</td>\n",
       "      <td>KRC Genk</td>\n",
       "      <td>GEN</td>\n",
       "    </tr>\n",
       "    <tr>\n",
       "      <th>1</th>\n",
       "      <td>2</td>\n",
       "      <td>9993</td>\n",
       "      <td>675.0</td>\n",
       "      <td>Beerschot AC</td>\n",
       "      <td>BAC</td>\n",
       "    </tr>\n",
       "    <tr>\n",
       "      <th>2</th>\n",
       "      <td>3</td>\n",
       "      <td>10000</td>\n",
       "      <td>15005.0</td>\n",
       "      <td>SV Zulte-Waregem</td>\n",
       "      <td>ZUL</td>\n",
       "    </tr>\n",
       "    <tr>\n",
       "      <th>3</th>\n",
       "      <td>4</td>\n",
       "      <td>9994</td>\n",
       "      <td>2007.0</td>\n",
       "      <td>Sporting Lokeren</td>\n",
       "      <td>LOK</td>\n",
       "    </tr>\n",
       "    <tr>\n",
       "      <th>4</th>\n",
       "      <td>5</td>\n",
       "      <td>9984</td>\n",
       "      <td>1750.0</td>\n",
       "      <td>KSV Cercle Brugge</td>\n",
       "      <td>CEB</td>\n",
       "    </tr>\n",
       "  </tbody>\n",
       "</table>\n",
       "</div>"
      ],
      "text/plain": [
       "   id  team_api_id  team_fifa_api_id     team_long_name team_short_name\n",
       "0   1         9987             673.0           KRC Genk             GEN\n",
       "1   2         9993             675.0       Beerschot AC             BAC\n",
       "2   3        10000           15005.0   SV Zulte-Waregem             ZUL\n",
       "3   4         9994            2007.0   Sporting Lokeren             LOK\n",
       "4   5         9984            1750.0  KSV Cercle Brugge             CEB"
      ]
     },
     "execution_count": 34,
     "metadata": {},
     "output_type": "execute_result"
    }
   ],
   "source": [
    "team.head()"
   ]
  },
  {
   "cell_type": "code",
   "execution_count": 35,
   "metadata": {},
   "outputs": [
    {
     "data": {
      "text/html": [
       "<div>\n",
       "<style scoped>\n",
       "    .dataframe tbody tr th:only-of-type {\n",
       "        vertical-align: middle;\n",
       "    }\n",
       "\n",
       "    .dataframe tbody tr th {\n",
       "        vertical-align: top;\n",
       "    }\n",
       "\n",
       "    .dataframe thead th {\n",
       "        text-align: right;\n",
       "    }\n",
       "</style>\n",
       "<table border=\"1\" class=\"dataframe\">\n",
       "  <thead>\n",
       "    <tr style=\"text-align: right;\">\n",
       "      <th></th>\n",
       "      <th>id</th>\n",
       "      <th>team_fifa_api_id</th>\n",
       "      <th>team_api_id</th>\n",
       "      <th>date</th>\n",
       "      <th>buildUpPlaySpeed</th>\n",
       "      <th>buildUpPlaySpeedClass</th>\n",
       "      <th>buildUpPlayDribbling</th>\n",
       "      <th>buildUpPlayDribblingClass</th>\n",
       "      <th>buildUpPlayPassing</th>\n",
       "      <th>buildUpPlayPassingClass</th>\n",
       "      <th>...</th>\n",
       "      <th>chanceCreationShooting</th>\n",
       "      <th>chanceCreationShootingClass</th>\n",
       "      <th>chanceCreationPositioningClass</th>\n",
       "      <th>defencePressure</th>\n",
       "      <th>defencePressureClass</th>\n",
       "      <th>defenceAggression</th>\n",
       "      <th>defenceAggressionClass</th>\n",
       "      <th>defenceTeamWidth</th>\n",
       "      <th>defenceTeamWidthClass</th>\n",
       "      <th>defenceDefenderLineClass</th>\n",
       "    </tr>\n",
       "  </thead>\n",
       "  <tbody>\n",
       "    <tr>\n",
       "      <th>0</th>\n",
       "      <td>1</td>\n",
       "      <td>434</td>\n",
       "      <td>9930</td>\n",
       "      <td>2010-02-22 00:00:00</td>\n",
       "      <td>60</td>\n",
       "      <td>Balanced</td>\n",
       "      <td>NaN</td>\n",
       "      <td>Little</td>\n",
       "      <td>50</td>\n",
       "      <td>Mixed</td>\n",
       "      <td>...</td>\n",
       "      <td>55</td>\n",
       "      <td>Normal</td>\n",
       "      <td>Organised</td>\n",
       "      <td>50</td>\n",
       "      <td>Medium</td>\n",
       "      <td>55</td>\n",
       "      <td>Press</td>\n",
       "      <td>45</td>\n",
       "      <td>Normal</td>\n",
       "      <td>Cover</td>\n",
       "    </tr>\n",
       "    <tr>\n",
       "      <th>1</th>\n",
       "      <td>2</td>\n",
       "      <td>434</td>\n",
       "      <td>9930</td>\n",
       "      <td>2014-09-19 00:00:00</td>\n",
       "      <td>52</td>\n",
       "      <td>Balanced</td>\n",
       "      <td>48.0</td>\n",
       "      <td>Normal</td>\n",
       "      <td>56</td>\n",
       "      <td>Mixed</td>\n",
       "      <td>...</td>\n",
       "      <td>64</td>\n",
       "      <td>Normal</td>\n",
       "      <td>Organised</td>\n",
       "      <td>47</td>\n",
       "      <td>Medium</td>\n",
       "      <td>44</td>\n",
       "      <td>Press</td>\n",
       "      <td>54</td>\n",
       "      <td>Normal</td>\n",
       "      <td>Cover</td>\n",
       "    </tr>\n",
       "    <tr>\n",
       "      <th>2</th>\n",
       "      <td>3</td>\n",
       "      <td>434</td>\n",
       "      <td>9930</td>\n",
       "      <td>2015-09-10 00:00:00</td>\n",
       "      <td>47</td>\n",
       "      <td>Balanced</td>\n",
       "      <td>41.0</td>\n",
       "      <td>Normal</td>\n",
       "      <td>54</td>\n",
       "      <td>Mixed</td>\n",
       "      <td>...</td>\n",
       "      <td>64</td>\n",
       "      <td>Normal</td>\n",
       "      <td>Organised</td>\n",
       "      <td>47</td>\n",
       "      <td>Medium</td>\n",
       "      <td>44</td>\n",
       "      <td>Press</td>\n",
       "      <td>54</td>\n",
       "      <td>Normal</td>\n",
       "      <td>Cover</td>\n",
       "    </tr>\n",
       "    <tr>\n",
       "      <th>3</th>\n",
       "      <td>4</td>\n",
       "      <td>77</td>\n",
       "      <td>8485</td>\n",
       "      <td>2010-02-22 00:00:00</td>\n",
       "      <td>70</td>\n",
       "      <td>Fast</td>\n",
       "      <td>NaN</td>\n",
       "      <td>Little</td>\n",
       "      <td>70</td>\n",
       "      <td>Long</td>\n",
       "      <td>...</td>\n",
       "      <td>70</td>\n",
       "      <td>Lots</td>\n",
       "      <td>Organised</td>\n",
       "      <td>60</td>\n",
       "      <td>Medium</td>\n",
       "      <td>70</td>\n",
       "      <td>Double</td>\n",
       "      <td>70</td>\n",
       "      <td>Wide</td>\n",
       "      <td>Cover</td>\n",
       "    </tr>\n",
       "    <tr>\n",
       "      <th>4</th>\n",
       "      <td>5</td>\n",
       "      <td>77</td>\n",
       "      <td>8485</td>\n",
       "      <td>2011-02-22 00:00:00</td>\n",
       "      <td>47</td>\n",
       "      <td>Balanced</td>\n",
       "      <td>NaN</td>\n",
       "      <td>Little</td>\n",
       "      <td>52</td>\n",
       "      <td>Mixed</td>\n",
       "      <td>...</td>\n",
       "      <td>52</td>\n",
       "      <td>Normal</td>\n",
       "      <td>Organised</td>\n",
       "      <td>47</td>\n",
       "      <td>Medium</td>\n",
       "      <td>47</td>\n",
       "      <td>Press</td>\n",
       "      <td>52</td>\n",
       "      <td>Normal</td>\n",
       "      <td>Cover</td>\n",
       "    </tr>\n",
       "  </tbody>\n",
       "</table>\n",
       "<p>5 rows × 25 columns</p>\n",
       "</div>"
      ],
      "text/plain": [
       "   id  team_fifa_api_id  team_api_id                 date  buildUpPlaySpeed  \\\n",
       "0   1               434         9930  2010-02-22 00:00:00                60   \n",
       "1   2               434         9930  2014-09-19 00:00:00                52   \n",
       "2   3               434         9930  2015-09-10 00:00:00                47   \n",
       "3   4                77         8485  2010-02-22 00:00:00                70   \n",
       "4   5                77         8485  2011-02-22 00:00:00                47   \n",
       "\n",
       "  buildUpPlaySpeedClass  buildUpPlayDribbling buildUpPlayDribblingClass  \\\n",
       "0              Balanced                   NaN                    Little   \n",
       "1              Balanced                  48.0                    Normal   \n",
       "2              Balanced                  41.0                    Normal   \n",
       "3                  Fast                   NaN                    Little   \n",
       "4              Balanced                   NaN                    Little   \n",
       "\n",
       "   buildUpPlayPassing buildUpPlayPassingClass           ...             \\\n",
       "0                  50                   Mixed           ...              \n",
       "1                  56                   Mixed           ...              \n",
       "2                  54                   Mixed           ...              \n",
       "3                  70                    Long           ...              \n",
       "4                  52                   Mixed           ...              \n",
       "\n",
       "  chanceCreationShooting  chanceCreationShootingClass  \\\n",
       "0                     55                       Normal   \n",
       "1                     64                       Normal   \n",
       "2                     64                       Normal   \n",
       "3                     70                         Lots   \n",
       "4                     52                       Normal   \n",
       "\n",
       "  chanceCreationPositioningClass  defencePressure defencePressureClass  \\\n",
       "0                      Organised               50               Medium   \n",
       "1                      Organised               47               Medium   \n",
       "2                      Organised               47               Medium   \n",
       "3                      Organised               60               Medium   \n",
       "4                      Organised               47               Medium   \n",
       "\n",
       "   defenceAggression defenceAggressionClass defenceTeamWidth  \\\n",
       "0                 55                  Press               45   \n",
       "1                 44                  Press               54   \n",
       "2                 44                  Press               54   \n",
       "3                 70                 Double               70   \n",
       "4                 47                  Press               52   \n",
       "\n",
       "   defenceTeamWidthClass defenceDefenderLineClass  \n",
       "0                 Normal                    Cover  \n",
       "1                 Normal                    Cover  \n",
       "2                 Normal                    Cover  \n",
       "3                   Wide                    Cover  \n",
       "4                 Normal                    Cover  \n",
       "\n",
       "[5 rows x 25 columns]"
      ]
     },
     "execution_count": 35,
     "metadata": {},
     "output_type": "execute_result"
    }
   ],
   "source": [
    "team_attr.head()"
   ]
  },
  {
   "cell_type": "markdown",
   "metadata": {},
   "source": [
    "The team's attributes are constantly updated accross time, and we can access the historical record of their playing styles through the 'date' column. For now, we are interested in the most recent playing style of the teams. So, we'll merge these 2 tables and keep the latest attribute record for each team. Also, we'll remove the NaN entries and the unnecessary columns."
   ]
  },
  {
   "cell_type": "code",
   "execution_count": 36,
   "metadata": {},
   "outputs": [
    {
     "name": "stdout",
     "output_type": "stream",
     "text": [
      "(260, 21)\n"
     ]
    }
   ],
   "source": [
    "df = pd.merge(team, team_attr, how='inner', left_on='team_api_id', right_on='team_api_id')\n",
    "aggs = df.groupby('team_long_name')['date'].max().to_frame()\n",
    "#print aggs.loc[team_names]\n",
    "df.drop('date', axis=1, inplace=True)\n",
    "df.drop_duplicates(subset='team_long_name', keep='last', inplace=True)\n",
    "df = df.merge(right=aggs, right_index=True, left_on='team_long_name', how='right')\n",
    "df = df.dropna()\n",
    "df.set_index('team_long_name', inplace=True)\n",
    "df.drop(['date', 'id_x', 'id_y', 'team_api_id', 'team_fifa_api_id_y', 'team_fifa_api_id_x', 'team_short_name'], axis=1, inplace=True)\n",
    "print (df.shape)"
   ]
  },
  {
   "cell_type": "code",
   "execution_count": 37,
   "metadata": {},
   "outputs": [
    {
     "data": {
      "text/plain": [
       "Index([u'buildUpPlaySpeed', u'buildUpPlaySpeedClass', u'buildUpPlayDribbling',\n",
       "       u'buildUpPlayDribblingClass', u'buildUpPlayPassing',\n",
       "       u'buildUpPlayPassingClass', u'buildUpPlayPositioningClass',\n",
       "       u'chanceCreationPassing', u'chanceCreationPassingClass',\n",
       "       u'chanceCreationCrossing', u'chanceCreationCrossingClass',\n",
       "       u'chanceCreationShooting', u'chanceCreationShootingClass',\n",
       "       u'chanceCreationPositioningClass', u'defencePressure',\n",
       "       u'defencePressureClass', u'defenceAggression',\n",
       "       u'defenceAggressionClass', u'defenceTeamWidth',\n",
       "       u'defenceTeamWidthClass', u'defenceDefenderLineClass'],\n",
       "      dtype='object')"
      ]
     },
     "execution_count": 37,
     "metadata": {},
     "output_type": "execute_result"
    }
   ],
   "source": [
    "df.columns"
   ]
  },
  {
   "cell_type": "markdown",
   "metadata": {},
   "source": [
    "So, we have a total of 260 clubs, with 21 attributes for each one. For now, we'll remove the categorical columns and focus only on the continuous ones."
   ]
  },
  {
   "cell_type": "code",
   "execution_count": 38,
   "metadata": {
    "collapsed": true
   },
   "outputs": [],
   "source": [
    "cols_to_keep = [u'buildUpPlaySpeed', u'buildUpPlayDribbling',\n",
    "         u'buildUpPlayPassing', u'chanceCreationPassing', u'chanceCreationCrossing',\n",
    "       u'chanceCreationShooting', u'defencePressure', u'defenceAggression', u'defenceTeamWidth']\n",
    "df = df[cols_to_keep]"
   ]
  },
  {
   "cell_type": "markdown",
   "metadata": {},
   "source": [
    "## Looking at the data"
   ]
  },
  {
   "cell_type": "markdown",
   "metadata": {},
   "source": [
    "Lets look at the data of some of the major clubs."
   ]
  },
  {
   "cell_type": "code",
   "execution_count": 39,
   "metadata": {},
   "outputs": [
    {
     "data": {
      "text/html": [
       "<div>\n",
       "<style scoped>\n",
       "    .dataframe tbody tr th:only-of-type {\n",
       "        vertical-align: middle;\n",
       "    }\n",
       "\n",
       "    .dataframe tbody tr th {\n",
       "        vertical-align: top;\n",
       "    }\n",
       "\n",
       "    .dataframe thead th {\n",
       "        text-align: right;\n",
       "    }\n",
       "</style>\n",
       "<table border=\"1\" class=\"dataframe\">\n",
       "  <thead>\n",
       "    <tr style=\"text-align: right;\">\n",
       "      <th></th>\n",
       "      <th>buildUpPlaySpeed</th>\n",
       "      <th>buildUpPlayDribbling</th>\n",
       "      <th>buildUpPlayPassing</th>\n",
       "      <th>chanceCreationPassing</th>\n",
       "      <th>chanceCreationCrossing</th>\n",
       "      <th>chanceCreationShooting</th>\n",
       "      <th>defencePressure</th>\n",
       "      <th>defenceAggression</th>\n",
       "      <th>defenceTeamWidth</th>\n",
       "    </tr>\n",
       "    <tr>\n",
       "      <th>team_long_name</th>\n",
       "      <th></th>\n",
       "      <th></th>\n",
       "      <th></th>\n",
       "      <th></th>\n",
       "      <th></th>\n",
       "      <th></th>\n",
       "      <th></th>\n",
       "      <th></th>\n",
       "      <th></th>\n",
       "    </tr>\n",
       "  </thead>\n",
       "  <tbody>\n",
       "    <tr>\n",
       "      <th>Liverpool</th>\n",
       "      <td>66</td>\n",
       "      <td>60.0</td>\n",
       "      <td>45</td>\n",
       "      <td>34</td>\n",
       "      <td>34</td>\n",
       "      <td>46</td>\n",
       "      <td>51</td>\n",
       "      <td>52</td>\n",
       "      <td>61</td>\n",
       "    </tr>\n",
       "    <tr>\n",
       "      <th>Manchester United</th>\n",
       "      <td>38</td>\n",
       "      <td>42.0</td>\n",
       "      <td>44</td>\n",
       "      <td>49</td>\n",
       "      <td>44</td>\n",
       "      <td>40</td>\n",
       "      <td>54</td>\n",
       "      <td>53</td>\n",
       "      <td>56</td>\n",
       "    </tr>\n",
       "    <tr>\n",
       "      <th>Arsenal</th>\n",
       "      <td>59</td>\n",
       "      <td>51.0</td>\n",
       "      <td>30</td>\n",
       "      <td>28</td>\n",
       "      <td>44</td>\n",
       "      <td>46</td>\n",
       "      <td>51</td>\n",
       "      <td>44</td>\n",
       "      <td>52</td>\n",
       "    </tr>\n",
       "    <tr>\n",
       "      <th>Chelsea</th>\n",
       "      <td>67</td>\n",
       "      <td>41.0</td>\n",
       "      <td>36</td>\n",
       "      <td>41</td>\n",
       "      <td>34</td>\n",
       "      <td>44</td>\n",
       "      <td>39</td>\n",
       "      <td>41</td>\n",
       "      <td>46</td>\n",
       "    </tr>\n",
       "    <tr>\n",
       "      <th>Real Madrid CF</th>\n",
       "      <td>50</td>\n",
       "      <td>57.0</td>\n",
       "      <td>46</td>\n",
       "      <td>61</td>\n",
       "      <td>41</td>\n",
       "      <td>63</td>\n",
       "      <td>52</td>\n",
       "      <td>60</td>\n",
       "      <td>63</td>\n",
       "    </tr>\n",
       "    <tr>\n",
       "      <th>FC Barcelona</th>\n",
       "      <td>36</td>\n",
       "      <td>35.0</td>\n",
       "      <td>51</td>\n",
       "      <td>36</td>\n",
       "      <td>49</td>\n",
       "      <td>56</td>\n",
       "      <td>61</td>\n",
       "      <td>65</td>\n",
       "      <td>65</td>\n",
       "    </tr>\n",
       "  </tbody>\n",
       "</table>\n",
       "</div>"
      ],
      "text/plain": [
       "                   buildUpPlaySpeed  buildUpPlayDribbling  buildUpPlayPassing  \\\n",
       "team_long_name                                                                  \n",
       "Liverpool                        66                  60.0                  45   \n",
       "Manchester United                38                  42.0                  44   \n",
       "Arsenal                          59                  51.0                  30   \n",
       "Chelsea                          67                  41.0                  36   \n",
       "Real Madrid CF                   50                  57.0                  46   \n",
       "FC Barcelona                     36                  35.0                  51   \n",
       "\n",
       "                   chanceCreationPassing  chanceCreationCrossing  \\\n",
       "team_long_name                                                     \n",
       "Liverpool                             34                      34   \n",
       "Manchester United                     49                      44   \n",
       "Arsenal                               28                      44   \n",
       "Chelsea                               41                      34   \n",
       "Real Madrid CF                        61                      41   \n",
       "FC Barcelona                          36                      49   \n",
       "\n",
       "                   chanceCreationShooting  defencePressure  defenceAggression  \\\n",
       "team_long_name                                                                  \n",
       "Liverpool                              46               51                 52   \n",
       "Manchester United                      40               54                 53   \n",
       "Arsenal                                46               51                 44   \n",
       "Chelsea                                44               39                 41   \n",
       "Real Madrid CF                         63               52                 60   \n",
       "FC Barcelona                           56               61                 65   \n",
       "\n",
       "                   defenceTeamWidth  \n",
       "team_long_name                       \n",
       "Liverpool                        61  \n",
       "Manchester United                56  \n",
       "Arsenal                          52  \n",
       "Chelsea                          46  \n",
       "Real Madrid CF                   63  \n",
       "FC Barcelona                     65  "
      ]
     },
     "execution_count": 39,
     "metadata": {},
     "output_type": "execute_result"
    }
   ],
   "source": [
    "team_names = ['Liverpool', 'Manchester United', 'Arsenal', 'Chelsea', 'Real Madrid CF', 'FC Barcelona']\n",
    "df.loc[team_names]"
   ]
  },
  {
   "cell_type": "markdown",
   "metadata": {},
   "source": [
    "Let's visualize some of these attributes. We'll start with looking at attributes related to build up play.\n",
    "\n",
    "### Build up play"
   ]
  },
  {
   "cell_type": "code",
   "execution_count": 40,
   "metadata": {},
   "outputs": [
    {
     "data": {
      "image/png": "[encoded data removed]",
      "text/plain": [
       "<matplotlib.figure.Figure at 0x7f447d0e1050>"
      ]
     },
     "metadata": {},
     "output_type": "display_data"
    }
   ],
   "source": [
    "import matplotlib.pyplot as plt\n",
    "%matplotlib inline\n",
    "plt.rcParams['figure.figsize'] = (10,10)\n",
    "team_maps = {}\n",
    "for team in team_names:\n",
    "    team_maps[team] = df.index.get_loc(team)\n",
    "\n",
    "def plot(X, Y, xlabel, ylabel):    \n",
    "    plt.figure()\n",
    "    plt.scatter(X, Y)\n",
    "    for i, x, y in zip(range(len(X)), X, Y): \n",
    "        if i in team_maps.values():\n",
    "            for team in team_maps.items():\n",
    "                if team[1]==i:\n",
    "                    team_name = team[0]\n",
    "            plt.annotate(team_name, xy=(x,y), xytext=(-20,20), textcoords='offset points', ha='right', va='bottom', bbox=dict(boxstyle='round,pad=0.5', fc='yellow', alpha=0.5),\n",
    "                    arrowprops=dict(arrowstyle = '->', connectionstyle='arc3,rad=0'))\n",
    "\n",
    "    plt.xlabel(xlabel)\n",
    "    plt.ylabel(ylabel)\n",
    "    plt.show()\n",
    "\n",
    "plot(df['buildUpPlayDribbling'], df['buildUpPlayPassing'], 'Dribbling', 'Passing')"
   ]
  },
  {
   "cell_type": "markdown",
   "metadata": {
    "collapsed": true
   },
   "source": [
    "As can be seen, Chelsea and Arsenal seem to have poor dribbling and passing attributes (compared to the other famous clubs). They seem to counter this by having a \"faster\" playing style (the \"buildUpPlaySpeed\" attribute is high for both these clubs). Barcelona, as expected, has the highest value for build up passing.\n",
    "\n",
    "Now, lets look at chance creation.\n",
    "\n",
    "### Chance creation"
   ]
  },
  {
   "cell_type": "code",
   "execution_count": 41,
   "metadata": {},
   "outputs": [
    {
     "data": {
      "image/png": "[encoded data removed]",
      "text/plain": [
       "<matplotlib.figure.Figure at 0x7f447d977490>"
      ]
     },
     "metadata": {},
     "output_type": "display_data"
    }
   ],
   "source": [
    "plot(df['chanceCreationCrossing'], df['chanceCreationShooting'], 'Crossing', 'Shooting')"
   ]
  },
  {
   "cell_type": "markdown",
   "metadata": {},
   "source": [
    "As expected, Barcelona and Real Madrid have really good shooting metrics. Manchester United fares the worst here (I must mention, though, that these metrics are from 2015, and United's shooting has improved in the past year or so). The crossing metric is poor for all of them, which indicates either that all of them suck at crossing, or they rely very little on it."
   ]
  },
  {
   "cell_type": "markdown",
   "metadata": {
    "collapsed": true
   },
   "source": [
    "## Dimensionality Reduction"
   ]
  },
  {
   "cell_type": "markdown",
   "metadata": {
    "collapsed": true
   },
   "source": [
    "In order to cluster these clubs based on their style of play, and visualize those clusters, we will have to reduce the data to 2D or 3D. This is where dimensionality reduction comes in. We'll try 2 methods for this - PCA and Multidimensional Scaling."
   ]
  }
 ],
 "metadata": {
  "kernelspec": {
   "display_name": "Python 2",
   "language": "python",
   "name": "python2"
  },
  "language_info": {
   "codemirror_mode": {
    "name": "ipython",
    "version": 2
   },
   "file_extension": ".py",
   "mimetype": "text/x-python",
   "name": "python",
   "nbconvert_exporter": "python",
   "pygments_lexer": "ipython2",
   "version": "2.7.12"
  }
 },
 "nbformat": 4,
 "nbformat_minor": 2
}
