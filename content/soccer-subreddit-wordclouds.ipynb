{
 "cells": [
  {
   "cell_type": "markdown",
   "metadata": {},
   "source": [
    "[Reddit](reddit.com) is one of my favourite discussion websites. It is a forum where people can post links or text posts which are downvoted and upvoted by users. \"Subreddits\" are communities based on a certain topic - like business, news, sports. Being a big football fan, I frequently visit the football-related subreddits. If you've been following European football at all, you'll know that even though the transfer window is not yet over, the past month or so has been crazy in terms of transfer news.\n",
    "\n",
    "I have also been getting familiar with data visualization tools, and I thought it would be really cool to draw word clouds of football team's subreddit posts, and try to visualize the obsession of football fans with the transfer window.\n",
    "\n",
    "I took the titles of 1000 top voted posts of the last month for the [10 most subscribed football subreddits](https://www.reddit.com/r/soccer/comments/6n33rt/football_clubs_with_the_largest_subreddits_on/), and /r/soccer - which is the most subscribed neutral football subreddit. The code for generating these word clouds is available on [Github](https://github.com/kvsingh/reddit-scripts/blob/master/wordclouds-soccer-team-subreddits.py)"
   ]
  },
  {
   "cell_type": "markdown",
   "metadata": {},
   "source": [
    "# Results\n",
    "\n",
    "## /r/soccer\n",
    "\n",
    "<img src=\"images/soccer-top-1000-month.png\" alt=\"soccer-wordcloud\" style=\"width: 600px;\"/>"
   ]
  },
  {
   "cell_type": "markdown",
   "metadata": {},
   "source": [
    "What can we infer from this word cloud?\n",
    "\n",
    "* Neymar will sign for Chelsea (Thanks to /u/elCheirinho for this very humorous insight)\n",
    "* On a serious note, Neymar has captured the news a lot with his possible move to PSG, hence its not a surprise that he's here.\n",
    "* Most major clubs other than Chelsea, like Manchester United, Manchester City, etc have multiple names (United, ManU, City), while Chelsea is probably the only major club with a single name, hence Chelsea is the biggest word in the cloud (in terms of team names). Thanks to /u/here-i-cum for this insight.\n",
    "\n",
    "\n",
    "Now lets look at the individual teams.\n",
    "\n",
    "## Arsenal (/r/Gunners)\n",
    "\n",
    "<img src=\"images/Gunners-top-1000-month.png\" alt=\"soccer-wordcloud\" style=\"width: 600px;\"/>"
   ]
  },
  {
   "cell_type": "markdown",
   "metadata": {},
   "source": [
    "* Lacazatte has been the main transfer target for Arsenal this summer.\n",
    "* Wenger, and whether he stays/leaves is always on people's minds at the start of every season.\n",
    "\n",
    "## Manchester United (/r/reddevils)\n",
    "\n",
    "<img src=\"images/reddevils-top-1000-month.png\" alt=\"soccer-wordcloud\" style=\"width: 600px;\"/>"
   ]
  },
  {
   "cell_type": "markdown",
   "metadata": {
    "collapsed": true
   },
   "source": [
    "* This looks like a more balanced word cloud than the other ones. None of the words really stand out (other than United and Manchester United). \n",
    "* We can hypothesize that the /r/reddevils were least obsessed about a single transfer target. Their titles are divided between Rooney, Everton, Lukaku, Mourinho, Chelsea, etc. This is also due to the fact that their major signing - Lukaku, had a lot of other variables involved with the transfer - Chelsea were looking to sign him as well, while Lukaku made a lot of statements on how he wants to leave Everton, and so on.\n",
    "\n",
    "## Liverpool (/r/liverpoolfc)\n",
    "\n",
    "<img src=\"images/lfc-top-1000-month.png\" alt=\"soccer-wordcloud\" style=\"width: 600px;\"/>\n",
    "\n",
    "* Liverpool tapped up Salah early in the window, and their recent obsession has been with the constant on-and-off transfer saga of Naby Keita\n",
    "* Coutinho has also been in the news, because of Barcelona's interest, and we see him having a decent representation in the word cloud as well.\n",
    "\n",
    "Following are the word clouds from the other football team subreddits.\n",
    "\n",
    "<table cellspacing=\"5\" cellpadding=\"5\">\n",
    "<col width=\"50%\">\n",
    "<col width=\"50%\">\n",
    "<tr>\n",
    "<td>\n",
    "<h2> Chelsea (/r/chelseafc) </h2> <img src=\"images/chelseafc-top-1000-month.png\" alt=\"soccer-wordcloud\" style=\"width: 400px;\"/>\n",
    "</td>\n",
    "<td>\n",
    "<h2>Tottenham Hotspurs (/r/coys) </h2> <img src=\"images/coys-top-1000-month.png\" alt=\"soccer-wordcloud\" style=\"width: 400px;\"/>\n",
    "</td>\n",
    "</tr>\n",
    "\n",
    "<tr>\n",
    "<td>\n",
    "<h2> Barcelona (/r/Barca) </h2>\n",
    "<img src=\"images/Barca-top-1000-month.png\" alt=\"soccer-wordcloud\" style=\"width: 400px;\"/>\n",
    "</td>\n",
    "<td>\n",
    "<h2> Real Madrid (/r/realmadrid) </h2>\n",
    "<img src=\"images/realmadrid-top-1000-month.png\" alt=\"soccer-wordcloud\" style=\"width: 400px;\"/>\n",
    "</td>\n",
    "</tr>\n",
    "\n",
    "<tr>\n",
    "<td>\n",
    "<h2> Manchester City (/r/MCFC) </h2>\n",
    "<img src=\"images/MCFC-top-1000-month.png\" alt=\"soccer-wordcloud\" style=\"width: 400px;\"/>\n",
    "</td>\n",
    "\n",
    "<td>\n",
    "<h2> Bayern Munich (/r/fcbayern) </h2>\n",
    "<img src=\"images/fcbayern-top-1000-month.png\" alt=\"soccer-wordcloud\" style=\"width: 400px;\"/>\n",
    "</td>\n",
    "</tr>\n",
    "\n",
    "<tr>\n",
    "<td>\n",
    "<h2> Borussia Dortmund (/r/borussiadortmund) </h2>\n",
    "<img src=\"images/borussiadortmund-top-1000-month.png\" alt=\"soccer-wordcloud\" style=\"width: 400px;\"/>\n",
    "</td>\n",
    "</tr>\n",
    "</table>\n",
    "\n",
    "Well, this was a lot of fun. I'm working on some similar ideas - like including the comments data as well, to analyze how optimistic/pessimistic fans of different teams are. Please comment below if you would like to add some more analysis from these word clouds - unfortunately I could only do 3 teams for now."
   ]
  }
 ],
 "metadata": {
  "kernelspec": {
   "display_name": "Python 2",
   "language": "python",
   "name": "python2"
  },
  "language_info": {
   "codemirror_mode": {
    "name": "ipython",
    "version": 2
   },
   "file_extension": ".py",
   "mimetype": "text/x-python",
   "name": "python",
   "nbconvert_exporter": "python",
   "pygments_lexer": "ipython2",
   "version": "2.7.12"
  }
 },
 "nbformat": 4,
 "nbformat_minor": 2
}
