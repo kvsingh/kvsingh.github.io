{
 "cells": [
  {
   "cell_type": "markdown",
   "metadata": {},
   "source": [
    "In this post, we're going to analyze lyrics of some of the popular artists nowadays. Music and analysis are two things I'm really into, and it was kind of obvious to combine both of them. Since I've known to delve into analysis paralysis, I decided to ask people on my facebook friends list about which artists they were currently listening to. This was also done to ensure that I analyze lyrics of artists which other people listen to, rather than bias them towards artists which I listen to, to reduce the bias in my dataset\n",
    "\n",
    "<img src=\"images/fbartists.png\" alt=\"fb-artists\" style=\"width: 300px;\"/>\n",
    "\n",
    "This post consists of three parts - **Data Collection** (where we get lyrics of the artists by using **Genus's API** and a bit of **BeautifulSoup**. In the second part, **Text Analysis**, we analyze the lyrics by using metrics and generating word clouds for the artists. The third part is **Sentiment Analysis**, where we analyze how positive and negative the lyrics of these artists are. Finally, I will try to connect everything and conclude things in the final part called **Conclusion**\n",
    "\n",
    "Here is the list of artists I used:\n",
    "\n",
    "* Cigarettes after Sex\n",
    "* Eric Clapton\n",
    "* Damien rice\n",
    "* Dire Straits\n",
    "* The Black keys\n",
    "* The Butterfly Effect\n",
    "* Porcupine Tree\n",
    "* Northlane\n",
    "* Incubus\n",
    "* Radiohead"
   ]
  },
  {
   "cell_type": "markdown",
   "metadata": {},
   "source": [
    "## Data Collection\n",
    "\n",
    "Scraping the internet for lyrics is hard work, and I really did not want to get into any hardcore data collection at this stage. Fortunately, after a quick google search, I came accross [this really cool](https://github.com/jasonqng/genius-lyrics-search) python wrapper for getting lyrics from Genius.com. Genius provides a handy API for searching for lyrics, which is really useful when you don't have a list of songs, and do not want to parse the html of artist-album-song pages on lyrics websites. "
   ]
  },
  {
   "cell_type": "code",
   "execution_count": null,
   "metadata": {
    "collapsed": true
   },
   "outputs": [],
   "source": [
    "artists = [\"cigarettes after sex\", \"eric clapton\", \"damien rice\", \"dire straits\", \\\n",
    "           \"the black keys\", \"the butterfly effect\", \"Porcupine tree\", \"Northlane\", \\\n",
    "           \"incubus\", \"radiohead\"]\n",
    "\n",
    "for artist in artists:\n",
    "    a = search(artist, outputfilename, client_access_token)\n",
    "    urls = map(lambda t: t[3], a)"
   ]
  },
  {
   "cell_type": "markdown",
   "metadata": {},
   "source": [
    "Esentially, what this wrapper does is give me a \"search\" function, where I can give it an artist name, and it gives me a list of urls of songs of that artist. It originally gave 100 songs, or 10 pages worth of results, but I decided to limit it to 10 songs. A convenient bit of luck - Genius.com has all the lyrics within a specific html tag, and I can just parse that using [BeautifulSoup](https://www.crummy.com/software/BeautifulSoup/bs4/doc/). This works for me, because right now I really didn't want to get into the complicated syntax of html pages to parse these lyrics. If you're interested in learning more about scraping, check out BeautifulSoup and [scrapy](https://scrapy.org/) (Use BeautifulSoup if you just want to get started with simple parsing, and use scrapy if you want something like a framework with more capabilities)."
   ]
  },
  {
   "cell_type": "code",
   "execution_count": null,
   "metadata": {
    "collapsed": true
   },
   "outputs": [],
   "source": [
    "page = urllib2.urlopen(request)\n",
    "soup = BeautifulSoup(page, \"lxml\")\n",
    "lyrics = soup.find(\"div\", class_= \"lyrics\")"
   ]
  },
  {
   "cell_type": "code",
   "execution_count": null,
   "metadata": {
    "collapsed": true
   },
   "outputs": [],
   "source": []
  }
 ],
 "metadata": {
  "kernelspec": {
   "display_name": "Python 2",
   "language": "python",
   "name": "python2"
  },
  "language_info": {
   "codemirror_mode": {
    "name": "ipython",
    "version": 2
   },
   "file_extension": ".py",
   "mimetype": "text/x-python",
   "name": "python",
   "nbconvert_exporter": "python",
   "pygments_lexer": "ipython2",
   "version": "2.7.12"
  }
 },
 "nbformat": 4,
 "nbformat_minor": 2
}
