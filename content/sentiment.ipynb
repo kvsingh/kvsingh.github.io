{
 "cells": [
  {
   "cell_type": "markdown",
   "metadata": {},
   "source": [
    "In this post, we are going to analyze lyrics of some of the popular artists nowadays. Music and analysis are two of my favourite things, and it was kind of obvious to combine both of them. Since I've been known to delve into analysis paralysis while making decisions, I chose to ask people on my facebook friends list about which artists they were currently listening to, instead of coming up with my own list (My propensity to listen to obscure artists doesn't help).\n",
    "  \n",
    "  \n",
    "<img src=\"images/fbartists.png\" alt=\"fb-artists\" style=\"width: 300px;display: block;margin: auto;\"/>\n",
    "  \n",
    "  \n",
    "The code for this blog post is available at [this github repository](https://github.com/kvsingh/lyrics-sentiment-analysis).\n",
    "\n",
    "This post consists of three parts - **Data Collection** (where we get the lyrics by using [**Genius's API**](https://docs.genius.com/) and a bit of **BeautifulSoup**). In the second part, **Text Analysis**, we analyze the lyrics by using metrics and generating word clouds. The third part is **Sentiment Analysis**, where we look at the sentiment (positivity and negativity) behind the lyrics of these artists, and try to draw conclusions.\n",
    "\n",
    "Here is the list of artists I used:\n",
    "\n",
    "* Cigarettes after Sex\n",
    "* Eric Clapton\n",
    "* Damien rice\n",
    "* Dire Straits\n",
    "* The Black keys\n",
    "* Eminem\n",
    "* Porcupine Tree\n",
    "* Northlane\n",
    "* Incubus\n",
    "* Radiohead"
   ]
  },
  {
   "cell_type": "markdown",
   "metadata": {},
   "source": [
    "## Data Collection\n",
    "\n",
    "Since I'm a bit of a beginner to the world of data scraping, I wanted a simple solution to the data collection problem. Fortunately, after a quick google search, I came accross [this really cool](https://github.com/jasonqng/genius-lyrics-search) python wrapper for getting lyrics from [Genius.com](http://genius.com/). Genius provides a handy API for searching lyrics, which is really useful when you don't have a list of songs, and do not want to parse the html heirarchy of artist, albums and songs on lyrics websites. "
   ]
  },
  {
   "cell_type": "code",
   "execution_count": 25,
   "metadata": {},
   "outputs": [],
   "source": [
    "from search import search\n",
    "outputfilename = \"lyrics.csv\"\n",
    "artists = [\"cigarettes after sex\", \"eric clapton\", \"damien rice\", \"dire straits\", \\\n",
    "           \"the black keys\", \"Eminem\", \"Porcupine tree\", \"Northlane\", \\\n",
    "           \"incubus\", \"radiohead\"]\n",
    "\n",
    "def get_lyrics(url):\n",
    "    request = urllib2.Request(url)\n",
    "    request.add_header(\"Authorization\", \"Bearer \" + \"your-client-access-token\")\n",
    "    request.add_header(\"User-Agent\",\n",
    "                       \"curl/7.9.8 (i686-pc-linux-gnu) libcurl 7.9.8 (OpenSSL 0.9.6b) (ipv6 enabled)\")\n",
    "    page = urllib2.urlopen(request)\n",
    "    soup = BeautifulSoup(page, \"lxml\")\n",
    "    lyrics = soup.find(\"div\", class_= \"lyrics\")\n",
    "    return lyrics.text\n",
    "\n",
    "for artist in artists:\n",
    "    a = search(artist, outputfilename, \"your-client-access-token\")\n",
    "    urls = map(lambda t: t[3], a)\n",
    "    f = open('lyrics/' + artist, 'wb')\n",
    "    for url in urls:\n",
    "        lyrics = get_lyrics(url)\n",
    "        f.write(lyrics.encode(\"utf8\"))\n",
    "    f.close()"
   ]
  },
  {
   "cell_type": "markdown",
   "metadata": {},
   "source": [
    "Esentially, what this wrapper does is provide a \"search\" function, where I can input an artist name, and it returns a list of urls of songs of that artist. It originally gave 100 songs, or 10 pages worth of results, but I decided to limit it to 10 songs. Genius.com has all the lyrics within a specific html tag, and I can just parse that using [BeautifulSoup](https://www.crummy.com/software/BeautifulSoup/bs4/doc/). This works for me, because at this point I really didn't want to get into the complicated syntax of html pages to parse these lyrics. If you're interested in learning more about scraping, check out BeautifulSoup and [scrapy](https://scrapy.org/) (Use BeautifulSoup if you just want to get started with simple parsing, and use scrapy if you want something like a framework with more capabilities)."
   ]
  },
  {
   "cell_type": "markdown",
   "metadata": {},
   "source": [
    "Lets do some basic common-sense **data cleaning** for our lyrics. Looking at the lyrics, there are certain \"section identifiers\" like \"Verse\", \"Chorus\" which we do not need. I removed them using the following simple regular expression. I also removed the empty newlines, which may not make much difference, but it makes the lyrics a bit prettier (?) to look at."
   ]
  },
  {
   "cell_type": "code",
   "execution_count": null,
   "metadata": {
    "collapsed": true
   },
   "outputs": [],
   "source": [
    "for artist in artists:\n",
    "    f = open('lyrics/' + artist, 'rb')\n",
    "    all_words = ''\n",
    "    for sentence in f.readlines():\n",
    "        this_sentence = sentence.decode('utf-8')\n",
    "        all_words += this_sentence\n",
    "    f.close()\n",
    "\n",
    "    #remove identifiers like chorus, verse, etc\n",
    "    all_words = re.sub(r'[\\(\\[].*?[\\)\\]]', '', all_words)\n",
    "    #remove empty lines\n",
    "    all_words = os.linesep.join([s for s in all_words.splitlines() if s])\n",
    "    \n",
    "    f = open('lyrics/' + artist + '-cleaned', 'wb')\n",
    "    f.write(all_words.encode('utf-8'))\n",
    "    f.close()"
   ]
  },
  {
   "cell_type": "markdown",
   "metadata": {},
   "source": [
    " The following is the starting of \"Creep\" by Radiohead, before the data cleaning.\n",
    "\n",
    ">  [Verse 1]                                                                                                                                                                                                           \n",
    "When you were here before                                                                                                                                                                                        \n",
    "Couldn't look you in the eye                                                                                                                                                                                        \n",
    "You're just like an angel                                                                                                                                                                                           \n",
    "Your skin makes me cry                                                                                                                                                                                              \n",
    "You float like a feather                                                                                                                                                                                            \n",
    "In a beautiful world \n",
    "\n",
    "\n",
    "> [Pre-Chorus]    \n",
    "> I wish I was special  \n",
    "> You're so fuckin' special\n",
    "\n",
    "> [Chorus]\n",
    "\n",
    "> But I'm a creep  \n",
    "> I'm a weirdo  \n",
    "> What the hell am I doing here?  \n",
    "> I don't belong here  \n",
    "\n",
    "And this is how it looks after the cleaning:\n",
    "\n",
    "> When you were here before  \n",
    "> Couldn't look you in the eye  \n",
    "> You're just like an angel  \n",
    "> Your skin makes me cry  \n",
    "> You float like a feather  \n",
    "> In a beautiful world  \n",
    "> I wish I was special  \n",
    "> You're so fuckin' special  \n",
    "> But I'm a creep  \n",
    "> I'm a weirdo  \n",
    "> What the hell am I doing here?  \n",
    "> I don't belong here  \n"
   ]
  },
  {
   "cell_type": "markdown",
   "metadata": {},
   "source": [
    "## Text Analysis and Wordclouds\n",
    "\n",
    "Lets look at some metrics for each artist. First, we plot the number of words used by these artists in their 10 songs."
   ]
  },
  {
   "cell_type": "code",
   "execution_count": 30,
   "metadata": {},
   "outputs": [
    {
     "data": {
      "image/png": "[encoded data removed]",
      "text/plain": [
       "<matplotlib.figure.Figure at 0x7f0c34da3750>"
      ]
     },
     "metadata": {},
     "output_type": "display_data"
    }
   ],
   "source": [
    "import pandas as pd\n",
    "import matplotlib.pyplot as plt\n",
    "%matplotlib inline\n",
    "plt.rcParams['figure.figsize'] = (8,6)\n",
    "\n",
    "df = pd.DataFrame(columns=('artist', 'words'))\n",
    "i=0\n",
    "for artist in artists:\n",
    "    f = open('lyrics/' + artist + '-cleaned', 'rb')\n",
    "    num_words = 0\n",
    "    all_text = ''\n",
    "    for sentence in f.readlines():\n",
    "        this_sentence = sentence.decode('utf-8')\n",
    "        num_words_this = len(this_sentence.split(\" \"))\n",
    "        num_words += num_words_this\n",
    "\n",
    "    df.loc[i] = (artist, num_words)\n",
    "    i+=1\n",
    "\n",
    "df.plot.bar(x='artist', y='words', title='Number of Words for each Artist');\n",
    "plt.show()"
   ]
  },
  {
   "cell_type": "markdown",
   "metadata": {},
   "source": [
    "Well, **Eminem** has the highest number of words, by far, but we shouldn't rely on this metric alone because the length of these songs are different for different artists.\n",
    "\n",
    "A more useful metric is the **vocabulary**, or the number of unique words used by each artist. But that is still skewed by the length of a song. Dividing the number of words used with the vocabulary gives us a measure of the **lexical richness** of each artist (i.e., what proportion of the words used in the songs are distinct). Before measuring this metric, though, we need to do remove stop words (like 'the', 'or', 'and')."
   ]
  },
  {
   "cell_type": "code",
   "execution_count": 31,
   "metadata": {},
   "outputs": [
    {
     "data": {
      "image/png": "[encoded data removed]",
      "text/plain": [
       "<matplotlib.figure.Figure at 0x7f0c34da3e50>"
      ]
     },
     "metadata": {},
     "output_type": "display_data"
    }
   ],
   "source": [
    "from nltk.corpus import stopwords\n",
    "\n",
    "df = pd.DataFrame(columns=('artist', 'lexicalrichness'))\n",
    "for artist in artists:\n",
    "    f = open('lyrics/' + artist + '-cleaned', 'rb')\n",
    "    all_words = ''\n",
    "    num_words = 0\n",
    "    raw_text = \"\"\n",
    "    for sentence in f.readlines():\n",
    "        this_sentence = sentence.decode('utf-8')\n",
    "        raw_text += this_sentence\n",
    "            \n",
    "    words = raw_text.split(\" \")\n",
    "    filtered_words = [word for word in words if word not in stopwords.words('english') and len(word) > 1 and word not in ['na','la']] # remove the stopwords\n",
    "    \n",
    "    a = len(set(filtered_words))\n",
    "    b = len(words)\n",
    "    df.loc[i] = (artist, (a/float(b))*100)\n",
    "    i+=1\n",
    "    \n",
    "df.plot.bar(x='artist', y='lexicalrichness', title='Lexical richness of each Artist');\n",
    "plt.show()    "
   ]
  },
  {
   "cell_type": "markdown",
   "metadata": {},
   "source": [
    "It looks like Porcupine Tree, The Black Keys and Northlane use a higher variety of words in their lyrics compared to Damien Rice. Although Eminem uses a large number of words compared to the others, and his vocabulary size is also bigger, his lexical richness is average compared to some of the other artists.  \n",
    "\n",
    "Now lets look at some of the interesting word clouds. This step doesn't have much of a purpose if you're not a fan of any of these artists, otherwise its interesting to look at the most commonly used words. I should also point out that the wordcloud library which I use, also aggregates multiple words together while considering the word frequencies, so you'll frequently see \"2 word\" combinations in them.\n",
    "\n",
    "Dire straits seem to use the word \"chicks\" a lot.\n",
    "\n",
    "<img src=\"images/dire straits.png\" alt=\"direstraits\" style=\"width: 500px;\"/>\n"
   ]
  },
  {
   "cell_type": "markdown",
   "metadata": {},
   "source": [
    "Eric clapton's word cloud is all about love, romance and Cocaine.\n",
    "\n",
    "<img src=\"images/eric clapton.png\" alt=\"direstraits\" style=\"width: 500px;\"/>\n",
    "\n",
    "Northlane, a metal band, as expected, has more \"negative\" lyrics, dealing with isolation and loneliness and all that jazz.\n",
    "\n",
    "<img src=\"images/Northlane.png\" alt=\"direstraits\" style=\"width: 500px;\"/>\n",
    "\n",
    "Radiohead's music seems to deal with a lot of broken hearts, truth and \"mess\" (I assume this has something to do with messy relationships?)\n",
    "\n",
    "<img src=\"images/radiohead.png\" alt=\"direstraits\" style=\"width: 500px;\"/>\n",
    "\n",
    "Eminem is the only artists with visible profanities in the word cloud:\n",
    "\n",
    "<img src=\"images/Eminem.png\" alt=\"direstraits\" style=\"width: 500px;\"/>"
   ]
  },
  {
   "cell_type": "markdown",
   "metadata": {},
   "source": [
    "## Sentiment Analysis\n",
    "\n",
    "Now, we'll use sentiment analysis to describe what proportion of lyrics of these artists are positive, negative or neutral. I was initially using the [TextBlob](https://textblob.readthedocs.io/en/dev/index.html) library, which is built on top of [NLTK](http://www.nltk.org/) (also known as the Natural Language Toolkit). While searching around these NLP frameworks, I used the following simple test : whether the library is able to distinguish between the following two sentences:\n",
    "\n",
    "> I'm feeling good\n",
    "\n",
    "> I'm feeling so good\n",
    "\n",
    "Ideally, the library should be able infer that the second statement is \"more\" positive. I tried this on both TextBlob and NLTK's [Vader Sentiment analyzer](https://github.com/cjhutto/vaderSentiment). TextBlob did not give any difference, while Vader passed the test. Of course, which one is a \"better\" library to use is totally based on your use case, and I'm sure that TextBlob does some things much better than NLTK.\n",
    "\n",
    "NLTK's sentiment analyzer gives a normalized unidimensional metric of sentiment of a given sentence. This value can be thresholded to determine whether the sentence is considered positive, negative, or neutral."
   ]
  },
  {
   "cell_type": "code",
   "execution_count": 45,
   "metadata": {},
   "outputs": [
    {
     "data": {
      "image/png": "[encoded data removed]",
      "text/plain": [
       "<matplotlib.figure.Figure at 0x7f0c34086250>"
      ]
     },
     "metadata": {},
     "output_type": "display_data"
    }
   ],
   "source": [
    "from nltk.sentiment.vader import SentimentIntensityAnalyzer\n",
    "df = pd.DataFrame(columns=('artist', 'pos', 'neu', 'neg'))\n",
    "sid = SentimentIntensityAnalyzer()\n",
    "i=0\n",
    "for artist in artists:\n",
    "    num_positive = 0\n",
    "    num_negative = 0\n",
    "    num_neutral = 0\n",
    "\n",
    "    f = open('lyrics/' + artist + '-cleaned', 'rb')\n",
    "    for sentence in f.readlines():\n",
    "        this_sentence = sentence.decode('utf-8')\n",
    "        comp = sid.polarity_scores(this_sentence)\n",
    "        comp = comp['compound']\n",
    "        if comp >= 0.5:\n",
    "            num_positive += 1\n",
    "        elif comp > -0.5 and comp < 0.5:\n",
    "            num_neutral += 1\n",
    "        else:\n",
    "            num_negative += 1\n",
    "\n",
    "    num_total = num_negative + num_neutral + num_positive\n",
    "    percent_negative = (num_negative/float(num_total))*100\n",
    "    percent_neutral = (num_neutral/float(num_total))*100\n",
    "    percent_positive = (num_positive/float(num_total))*100\n",
    "    df.loc[i] = (artist, percent_positive, percent_neutral, percent_negative)\n",
    "    i+=1\n",
    "                 \n",
    "df.plot.bar(x='artist', stacked=True)\n",
    "plt.show()          "
   ]
  },
  {
   "cell_type": "markdown",
   "metadata": {},
   "source": [
    "| Artist                | Neg  \t| Neutral \t| Pos  \t|\n",
    "|---------------------  |------\t|---------\t|------\t|\n",
    "| Cigarettes After Sex &nbsp;&nbsp;&nbsp;\t| 3.5  \t&nbsp;&nbsp;| 86.3 &nbsp;&nbsp;    \t| 10.1 &nbsp;&nbsp; \t|\n",
    "| Eric Clapton         \t| 2.2  \t| 80.0    \t| 17.8 \t|\n",
    "| Damien Rice          \t| 6.1  \t| 87.6    \t| 6.3  \t|\n",
    "| Dire Straits         \t| 5.2  \t| 84.2    \t| 10.6 \t|\n",
    "| The Black Keys       \t| 6.9  \t| 85.4    \t| 7.7  \t|\n",
    "| Eminem               \t| 12.6 \t| 80.1    \t| 7.3  \t|\n",
    "| Porcupine tree       \t| 3.5  \t| 89.9    \t| 6.7  \t|\n",
    "| Northlane            \t| 8.3  \t| 88.3    \t| 3.4  \t|\n",
    "| Incubus              \t| 3.4  \t| 83.2    \t| 13.5 \t|\n",
    "| Radiohead            \t| 9.9  \t| 83.0    \t| 7.1  \t|\n",
    "\n",
    "### Negative lyrics\n",
    "\n",
    "**Eminem** wins the negative lyrics contest (not surprisingly), with 12.6% of his lyrics being negative. **Radiohead** comes in second, with 9.9%. **Eric Clapton** has the least negative lyrics, at 2.2%. One surprise is **Porcupine tree**, at 3.5%, considering how sad their lyrics can be. This has led me to hypothesize that **aggression seems to be a much more negative emotion compared to sadness** (since Eminem has much more negative lyrics than Porcupine Tree). Radiohead seems to have both a decent amount of aggression as well as sadness. Of course, all this analysis and hypothesizing is subject to the 10 songs of these artists, and any generalizations made here should be taken with a grain of salt.\n",
    "\n",
    "### Positive lyrics\n",
    "\n",
    "**Eric Clapton** wins this one at 17.8%. He also had the least percentage of negative lyrics. Conclusion : his lyrics are generally much more \"happier\" than the rest. **Incubus** comes in second at 13.4%. **Northlane** comes in last at 3.4% (validating the metal music stereotype). I would say, overall, Northlane and Eminem are tied at having the \"least happiest\" lyrics.\n",
    "\n",
    "## That's it for now!\n",
    "\n",
    "Of course, a lot more can be done with this topic, but a wise man once told me that one should know when to stop. I would love to know what you thought of my analysis (no doubt, you'll have strong feelings if you're fans of any of these artists). What other metrics could I have looked at? Let me know in the comments below!"
   ]
  }
 ],
 "metadata": {
  "kernelspec": {
   "display_name": "Python 2",
   "language": "python",
   "name": "python2"
  },
  "language_info": {
   "codemirror_mode": {
    "name": "ipython",
    "version": 2
   },
   "file_extension": ".py",
   "mimetype": "text/x-python",
   "name": "python",
   "nbconvert_exporter": "python",
   "pygments_lexer": "ipython2",
   "version": "2.7.12"
  }
 },
 "nbformat": 4,
 "nbformat_minor": 2
}
