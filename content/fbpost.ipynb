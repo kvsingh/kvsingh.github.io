{
 "cells": [
  {
   "cell_type": "markdown",
   "metadata": {},
   "source": [
    "For the longest time, I've been wanting to do some analysis using facebook graph API. One of the domains which really excites me, in terms of analysing data and deriving conclusions from it, is studying data related to human behaviour. And what better source of such information do we have other than facebook?  I mean, it has more than [2 billion monthly active users](https://en.wikipedia.org/wiki/List_of_virtual_communities_with_more_than_100_million_active_users). It is a cesspool of narcissicm where people share their important moments.\n",
    "\n",
    "I can definitely acknowledge that the dopamine rush which facebook provides is a bit \"dangerous\", its almost like a drug, and is prone to addiction like any other feel good activity. But when used in moderation, it provides benefits like any other drugs - a place to express yourself and share stories in a world which is becoming less social by the minute.\n",
    "\n",
    "However, this raises the important question of privacy, and facebook has recognized the importance of that by modifying its API over the years. While earlier it was easy to access users' public information by using the API, now it requires the user to authenticate before you can access even the public information. Unfortunately, that makes it difficult for people like me who are looking to use other people's data to derive generalized insights. So, until I'm able to convince a considerable number of people to give their precious data, I decided to work on what I had - my own data. I decided to analyze my posts over the years to see if I could find some patterns.\n",
    "\n",
    "To start with, we try to answer the question : what are the features which describe a facebook post? I came up with the following answers:\n",
    "\n",
    "* Number of likes\n",
    "* Length of the post\n",
    "* Time of the post (Month, Day of week, Time of day)\n",
    "* Content of the post \n",
    "\n",
    "Next, use facebook's graph API to get the above data, and write it to a csv file. If you want to do this for your own facebook statuses, you'll need an FB API user access token (I generated mine via the [Graph API Explorer](https://developers.facebook.com/tools/explorer/145634995501895/)). You'll also need a [Facebook developer account](https://developers.facebook.com/) for this.\n",
    "\n",
    "```python\n",
    "import facebook, datetime\n",
    "from textblob import TextBlob\n",
    "import csv\n",
    "writer = csv.writer(open('data-statuses.csv', 'wb'))\n",
    "writer.writerow(['polarity', 'subjectivity', 'num_reactions', 'length', 'num_words', 'month', 'dow', 'tod'])\n",
    "graph = facebook.GraphAPI(access_token='youraccesstoken', version='2.8')\n",
    "posts = graph.get_all_connections(id='me', connection_name='posts')\n",
    "for post in posts:\n",
    "    try:\n",
    "        post_id = post['id']\n",
    "        status = post['message']\n",
    "\n",
    "        time_string = post['created_time'][:-5]\n",
    "        time = datetime.datetime.strptime(time_string, '%Y-%m-%dT%H:%M:%S')\n",
    "        time = post['time']\n",
    "\n",
    "        blob = TextBlob(status)\n",
    "        polarity, subjectivity = blob.sentiment\n",
    "        length = len(status)\n",
    "        num_words = len(status.split(\" \"))\n",
    "        post_reactions = graph.get_all_connections(id=post_id, connection_name=\"reactions\")\n",
    "        num_reactions = sum(1 for _ in post_reactions)\n",
    "\n",
    "        month = time.month\n",
    "        dow = time.weekday()\n",
    "        tod = time.hour\n",
    "\n",
    "        writer.writerow([polarity, subjectivity, num_reactions, length, num_words, month, dow, tod])\n",
    "    except:\n",
    "        continue\n",
    "\n",
    "```\n",
    "\n",
    "Now, lets start the analysis. We use pandas to load the data in the csv file to a dataframe."
   ]
  },
  {
   "cell_type": "code",
   "execution_count": 2,
   "metadata": {},
   "outputs": [
    {
     "name": "stdout",
     "output_type": "stream",
     "text": [
      "   polarity  subjectivity  num_reactions  length  num_words  month  dow  tod\n",
      "0  0.125000      0.458333             18     312         59      7    4   20\n",
      "1 -0.245833      0.320833              1     107         18      7    3   19\n",
      "2 -0.400000      0.400000             50      56          7      7    3   12\n",
      "3  0.000000      0.000000              0       6          1      6    6   16\n",
      "4  0.000000      0.000000              3       1          1      6    0   18\n",
      "(703, 8)\n"
     ]
    }
   ],
   "source": [
    "import pandas as pd\n",
    "import matplotlib.pyplot as plt\n",
    "df = pd.read_csv('data-statuses.csv')\n",
    "print df.head()\n",
    "print df.shape"
   ]
  },
  {
   "cell_type": "code",
   "execution_count": null,
   "metadata": {
    "collapsed": true
   },
   "outputs": [],
   "source": []
  }
 ],
 "metadata": {
  "kernelspec": {
   "display_name": "Python 2",
   "language": "python",
   "name": "python2"
  },
  "language_info": {
   "codemirror_mode": {
    "name": "ipython",
    "version": 2
   },
   "file_extension": ".py",
   "mimetype": "text/x-python",
   "name": "python",
   "nbconvert_exporter": "python",
   "pygments_lexer": "ipython2",
   "version": "2.7.12"
  }
 },
 "nbformat": 4,
 "nbformat_minor": 2
}
