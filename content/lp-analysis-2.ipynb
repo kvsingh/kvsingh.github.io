{
 "cells": [
  {
   "cell_type": "raw",
   "metadata": {},
   "source": [
    "In the [previous]() blog post, we saw how Linkin Park's musical style changed over the years, by looking at the mean and variation of audio features of their songs. In paricular, we looked at 4 audio features - duration, energy, loudness and valence. In this post, we'll try to relate some of these features to the general \"mood\" of LP's songs, and how these moods changed through the years. You don't need to read the previous post to understand this one - I am only using 2 of the 4 previous audio features - energy and valence. Also, I will be explaining these features again. \n",
    "\n",
    "The code for this post is available at [this github repository]().\n",
    "\n",
    "Before we start the analysis, though, let me try to articulate what I mean when I say \"mood\" of a song."
   ]
  },
  {
   "cell_type": "markdown",
   "metadata": {},
   "source": [
    "## Mood and Music"
   ]
  },
  {
   "cell_type": "markdown",
   "metadata": {},
   "source": [
    "If you're anything more than a casual listener of music, you will find a strong correlation between a song and the emotions it invokes in you. Some hardcore listeners might even experience using music as a tool to manipulate or \"hack\" their emotions - listening to a particular song to switch from one mood to the next. For example - some people might play highly energetic music in their room when they're feeling lethargic, to get some momentum and start doing things. After a long day at work, another person might put on some relaxing \"peaceful\" music to switch from a hyper focused state to a more relaxed state of mind. \"Somber\" or \"neutral\" music is usually considered to be suited to listening while working, since it takes you into an objective state of mind. \\\n",
    "The [Gracenote Music API] "
   ]
  },
  {
   "cell_type": "markdown",
   "metadata": {},
   "source": [
    "## Dataset"
   ]
  },
  {
   "cell_type": "markdown",
   "metadata": {},
   "source": [
    "We'll be using the [Gracenote Music Web API](https://developer.gracenote.com/web-api) to get mood information for Linkin Park's songs. [This blog post](http://www.gracenote.com/computing-musical-mood-at-gracenote/) contains more detailed information on the algorithms behind classification of mood of each song. We will be using a subset of the 25 moods used by Gracenote. Following are the moods we'll be using:\n",
    "\n",
    "* Peaceful\n",
    "* Sentimental\n",
    "* Upbeat\n",
    "* Sensual\n",
    "* Serious\n",
    "* Somber\n",
    "* Exciting\n",
    "* Energizing\n",
    "* Aggressive"
   ]
  },
  {
   "cell_type": "markdown",
   "metadata": {},
   "source": [
    "For those that didn't read the previous post, here is a quick recap of the 2 audio features (energy and valence) we'll be using to relate to the \"mood\" of a song:\n",
    "\n",
    "* Energy - a number between 0 and 1 which is a perceptual measure of intensity and activity of a song. According to Spotify's API documentation :\n",
    "> Typically, energetic tracks feel fast, loud, and noisy. For example, death metal has high energy, while a Bach prelude scores low on the scale.\n",
    "\n",
    "* Valence - A measure from 0.0 to 1.0 describing the musical positiveness conveyed by the track.\n",
    "> Tracks with high valence sound more positive (e.g. happy, cheerful, euphoric), while tracks with low valence sound more negative (e.g. sad, depressed, angry)."
   ]
  },
  {
   "cell_type": "markdown",
   "metadata": {},
   "source": [
    "[Here]() is the script I used to get all the data, using Spotify Web API's python wrapper - [Spotipy]() and gracenote web API's python wrapper - [pygn]()."
   ]
  },
  {
   "cell_type": "markdown",
   "metadata": {},
   "source": [
    "## Introductory Analysis"
   ]
  },
  {
   "cell_type": "code",
   "execution_count": 1,
   "metadata": {},
   "outputs": [],
   "source": [
    "import pickle\n",
    "data = pickle.load(open('lp-data-2.p', 'rb'))\n",
    "data.drop(['tempo', 'loudness', 'duration'], inplace=True, axis=1)"
   ]
  },
  {
   "cell_type": "code",
   "execution_count": 2,
   "metadata": {},
   "outputs": [],
   "source": [
    "import matplotlib.pyplot as plt\n",
    "%matplotlib inline\n",
    "plt.rcParams['figure.figsize'] = (12,8)"
   ]
  },
  {
   "cell_type": "code",
   "execution_count": 10,
   "metadata": {},
   "outputs": [
    {
     "data": {
      "text/plain": [
       "Index([u'name', u'album', u'mood', u'energy', u'valence'], dtype='object')"
      ]
     },
     "execution_count": 10,
     "metadata": {},
     "output_type": "execute_result"
    }
   ],
   "source": [
    "data.columns"
   ]
  },
  {
   "cell_type": "code",
   "execution_count": 13,
   "metadata": {},
   "outputs": [
    {
     "data": {
      "text/plain": [
       "<matplotlib.axes._subplots.AxesSubplot at 0x7f18ed58ab90>"
      ]
     },
     "execution_count": 13,
     "metadata": {},
     "output_type": "execute_result"
    },
    {
     "data": {
      "image/png": "[encoded data removed]",
      "text/plain": [
       "<matplotlib.figure.Figure at 0x7f18ed58a850>"
      ]
     },
     "metadata": {},
     "output_type": "display_data"
    }
   ],
   "source": [
    "data.mood.value_counts().plot(kind='bar')"
   ]
  },
  {
   "cell_type": "markdown",
   "metadata": {},
   "source": [
    "As we can see, most of LP's song come in the \"Sensual\" moood category, with \"Energizing\" and \"Serious\" being the second and third most popoular moods.\n",
    "\n",
    "##### Examples of sensual, energetic and serious songs.\n",
    "##### mention that due to mapping of moods from 25 to 9, they might not be super accurate. Mention about level1 moods"
   ]
  },
  {
   "cell_type": "markdown",
   "metadata": {},
   "source": [
    "## Mood taxonomoy based on arousal-positivity scale"
   ]
  },
  {
   "cell_type": "markdown",
   "metadata": {},
   "source": [
    "Here, I'm going to refer to some super interesting work done by Ting Neo on [Music Mood Clasification](https://neokt.github.io/projects/audio-music-mood-classification/). She defines these moods on a arousal-positivity scale. Esentially, moods are defined using 2 axis - Arousal, and Positivity. Her modelling of the 25 level 1 gracenote moods is done by having 5 separate classes for each axis. Since I have narrowed it down to 9 moods, we'll be having 3 classes on each scale. This is how it looks like:\n",
    "\n",
    "![Moods](images/moodss.png \"Moods\")\n",
    "\n",
    "\n",
    "## image"
   ]
  },
  {
   "cell_type": "markdown",
   "metadata": {},
   "source": [
    "## LP's albums on mood taxonomy scale"
   ]
  },
  {
   "cell_type": "markdown",
   "metadata": {},
   "source": [
    "Analyzing the moods of individual songs in the albums can get complicated really quick, since there are 9 moods and 7 albums. Instead, lets try to represent the albums on the mood taxonomy scale. We'll try to do this in two ways - first, more discrte way is by using the above scale. The other - using the 2 attributes of energy and valence defined above. This will become clearer as we progress."
   ]
  },
  {
   "cell_type": "markdown",
   "metadata": {},
   "source": [
    "As you can see in the above scale, moods are represented using level of arousal and level of positivity. Lets create 2 mappings from each mood - one mapping the mood to level of arousal, and the other, to the level of positivity."
   ]
  },
  {
   "cell_type": "code",
   "execution_count": 1,
   "metadata": {},
   "outputs": [
    {
     "ename": "NameError",
     "evalue": "name 'data' is not defined",
     "output_type": "error",
     "traceback": [
      "\u001b[0;31m---------------------------------------------------------------------------\u001b[0m",
      "\u001b[0;31mNameError\u001b[0m                                 Traceback (most recent call last)",
      "\u001b[0;32m<ipython-input-1-09d8d18ad16c>\u001b[0m in \u001b[0;36m<module>\u001b[0;34m()\u001b[0m\n\u001b[1;32m      9\u001b[0m     \u001b[0;34m'peaceful'\u001b[0m \u001b[0;34m:\u001b[0m \u001b[0;34m-\u001b[0m\u001b[0;36m1\u001b[0m\u001b[0;34m,\u001b[0m \u001b[0;34m'sentimental'\u001b[0m\u001b[0;34m:\u001b[0m \u001b[0;34m-\u001b[0m\u001b[0;36m1\u001b[0m\u001b[0;34m,\u001b[0m \u001b[0;34m'somber'\u001b[0m \u001b[0;34m:\u001b[0m \u001b[0;34m-\u001b[0m\u001b[0;36m1\u001b[0m\u001b[0;34m\u001b[0m\u001b[0m\n\u001b[1;32m     10\u001b[0m }\n\u001b[0;32m---> 11\u001b[0;31m \u001b[0mdata\u001b[0m\u001b[0;34m[\u001b[0m\u001b[0;34m'positiveness'\u001b[0m\u001b[0;34m]\u001b[0m \u001b[0;34m=\u001b[0m \u001b[0mdata\u001b[0m\u001b[0;34m.\u001b[0m\u001b[0mmood\u001b[0m\u001b[0;34m.\u001b[0m\u001b[0mapply\u001b[0m\u001b[0;34m(\u001b[0m\u001b[0;32mlambda\u001b[0m \u001b[0ma\u001b[0m\u001b[0;34m:\u001b[0m \u001b[0mmood_positiveness\u001b[0m\u001b[0;34m[\u001b[0m\u001b[0ma\u001b[0m\u001b[0;34m]\u001b[0m\u001b[0;34m)\u001b[0m\u001b[0;34m\u001b[0m\u001b[0m\n\u001b[0m\u001b[1;32m     12\u001b[0m \u001b[0mdata\u001b[0m\u001b[0;34m[\u001b[0m\u001b[0;34m'energeticness'\u001b[0m\u001b[0;34m]\u001b[0m \u001b[0;34m=\u001b[0m \u001b[0mdata\u001b[0m\u001b[0;34m.\u001b[0m\u001b[0mmood\u001b[0m\u001b[0;34m.\u001b[0m\u001b[0mapply\u001b[0m\u001b[0;34m(\u001b[0m\u001b[0;32mlambda\u001b[0m \u001b[0ma\u001b[0m\u001b[0;34m:\u001b[0m \u001b[0mmood_energeticness\u001b[0m\u001b[0;34m[\u001b[0m\u001b[0ma\u001b[0m\u001b[0;34m]\u001b[0m\u001b[0;34m)\u001b[0m\u001b[0;34m\u001b[0m\u001b[0m\n",
      "\u001b[0;31mNameError\u001b[0m: name 'data' is not defined"
     ]
    }
   ],
   "source": [
    "mood_positiveness = {\n",
    "    'peaceful' : 1, 'upbeat' : 1, 'excited': 1,\n",
    "    'sentimental' : 0, 'sensual' : 0, 'energizing' : 0,\n",
    "    'somber' : -1, 'serious': -1, 'aggressive' : -1\n",
    "}\n",
    "mood_energeticness = {\n",
    "    'excited' : 1, 'energizing' : 1, 'aggressive': 1,\n",
    "    'upbeat' : 0, 'sensual' : 0, 'serious' : 0,\n",
    "    'peaceful' : -1, 'sentimental': -1, 'somber' : -1\n",
    "}\n",
    "data['positiveness'] = data.mood.apply(lambda a: mood_positiveness[a])  \n",
    "data['energeticness'] = data.mood.apply(lambda a: mood_energeticness[a])  "
   ]
  },
  {
   "cell_type": "markdown",
   "metadata": {},
   "source": [
    "Now, lets plot LP's albums on the mood taxonomy scale."
   ]
  },
  {
   "cell_type": "code",
   "execution_count": 13,
   "metadata": {},
   "outputs": [
    {
     "data": {
      "image/png": "[encoded data removed]",
      "text/plain": [
       "<matplotlib.figure.Figure at 0x7f75ad8f1750>"
      ]
     },
     "metadata": {},
     "output_type": "display_data"
    }
   ],
   "source": [
    "b = data.groupby('album')['positiveness', 'energeticness'].mean()\n",
    "fig, ax = plt.subplots()\n",
    "b.plot('energeticness', 'positiveness', kind='scatter', ax=ax)\n",
    "for k, v in b.iterrows():\n",
    "    ax.text(v['energeticness'], v['positiveness'], k)"
   ]
  },
  {
   "cell_type": "markdown",
   "metadata": {},
   "source": [
    "Hybrid Theory, Meteora were high energy albums, with dark, negative themes, but little depth in those themes. Hence, their positiveness is greater than the other albums. Hunting Party was similar in the sense of being high energy, but had more depth in the negative themes. Minutes to Midnight, One more Light, and Living Things seem to follow in another category. A Thousand Suns seems to be the outlier here, which can probably be related to it being a concept album."
   ]
  },
  {
   "cell_type": "markdown",
   "metadata": {},
   "source": [
    "## LP's albums on energy-valence scale"
   ]
  },
  {
   "cell_type": "markdown",
   "metadata": {},
   "source": [
    "Now, lets plot LP's albums on the energy-valence scale. Esentially, we are just taking the mean of energy and valence for all songs for each album. This is a more \"continuous\" version of the previous graph."
   ]
  },
  {
   "cell_type": "code",
   "execution_count": 15,
   "metadata": {},
   "outputs": [
    {
     "data": {
      "image/png": "[encoded data removed]",
      "text/plain": [
       "<matplotlib.figure.Figure at 0x7f75ad7c0810>"
      ]
     },
     "metadata": {},
     "output_type": "display_data"
    }
   ],
   "source": [
    "b = data.groupby('album')['energy', 'valence'].mean()\n",
    "fig, ax = plt.subplots()\n",
    "b.plot('energy', 'valence', kind='scatter', ax=ax)\n",
    "for k, v in b.iterrows():\n",
    "    ax.text(v['energy'], v['valence'], k)"
   ]
  },
  {
   "cell_type": "markdown",
   "metadata": {},
   "source": [
    "Here, contrasting to the previous graph, Living Things, Meteora and Hybrid Theory seems to form a common cluster. One more Light and Minutes with another, and a thousand suns and Hunting party, both forming their own mini clusters. \n",
    "\n",
    "What's the difference between the two graphs? One is based on discrete mood labels defined by third party service and model of energy and positivity created on those mood labels. The other, is based on means of continuous attributes for each song in each album. \n",
    "\n",
    "Why did we look at the same model in two different ways? Merely, for clarity. After looking at the second graph, our analysis of putting Hunting Party in the same cluster as Meteora and Hybrid Theory seems a bit hasty. It makes more sense to put Hunting Party and a Thousand suns in completely different independent clusters. "
   ]
  }
 ],
 "metadata": {
  "kernelspec": {
   "display_name": "Python 2",
   "language": "python",
   "name": "python2"
  },
  "language_info": {
   "codemirror_mode": {
    "name": "ipython",
    "version": 2
   },
   "file_extension": ".py",
   "mimetype": "text/x-python",
   "name": "python",
   "nbconvert_exporter": "python",
   "pygments_lexer": "ipython2",
   "version": "2.7.12"
  }
 },
 "nbformat": 4,
 "nbformat_minor": 2
}
